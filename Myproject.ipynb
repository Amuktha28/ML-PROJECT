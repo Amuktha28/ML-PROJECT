{
  "cells": [
    {
      "cell_type": "markdown",
      "metadata": {
        "id": "view-in-github",
        "colab_type": "text"
      },
      "source": [
        "<a href=\"https://colab.research.google.com/github/Amuktha28/ML-PROJECT/blob/main/Myproject.ipynb\" target=\"_parent\"><img src=\"https://colab.research.google.com/assets/colab-badge.svg\" alt=\"Open In Colab\"/></a>"
      ]
    },
    {
      "cell_type": "code",
      "execution_count": null,
      "metadata": {
        "id": "2pj7gaCIoQLQ"
      },
      "outputs": [],
      "source": [
        "import pandas as pd\n",
        "import numpy as np\n",
        "import matplotlib.pyplot as plt\n",
        "import seaborn as sns\n",
        "from sklearn.model_selection import StratifiedKFold, train_test_split\n",
        "from sklearn.impute import SimpleImputer\n",
        "from sklearn.preprocessing import StandardScaler, OneHotEncoder\n",
        "from sklearn.ensemble import RandomForestClassifier\n",
        "from sklearn.metrics import accuracy_score\n",
        "from sklearn.linear_model import LogisticRegression\n",
        "from sklearn.compose import ColumnTransformer\n",
        "from sklearn.metrics import accuracy_score\n"
      ]
    },
    {
      "cell_type": "code",
      "execution_count": null,
      "metadata": {
        "id": "hX2EDuIroyaq"
      },
      "outputs": [],
      "source": [
        "\n",
        "test = pd.read_csv('/content/test (2).csv')\n",
        "train = pd.read_csv('/content/train (2).csv')"
      ]
    },
    {
      "cell_type": "code",
      "execution_count": null,
      "metadata": {
        "colab": {
          "base_uri": "https://localhost:8080/",
          "height": 711
        },
        "id": "BtG29ZwBpjNo",
        "outputId": "634b1a9b-3dc0-4708-89ef-b99d7ba46605"
      },
      "outputs": [
        {
          "output_type": "execute_result",
          "data": {
            "text/plain": [
              "id                                            0\n",
              "Name                                          0\n",
              "Gender                                        0\n",
              "Age                                           0\n",
              "City                                          0\n",
              "Working Professional or Student               0\n",
              "Profession                                36630\n",
              "Academic Pressure                        112803\n",
              "Work Pressure                             27918\n",
              "CGPA                                     112802\n",
              "Study Satisfaction                       112803\n",
              "Job Satisfaction                          27910\n",
              "Sleep Duration                                0\n",
              "Dietary Habits                                4\n",
              "Degree                                        2\n",
              "Have you ever had suicidal thoughts ?         0\n",
              "Work/Study Hours                              0\n",
              "Financial Stress                              4\n",
              "Family History of Mental Illness              0\n",
              "Depression                                    0\n",
              "dtype: int64"
            ],
            "text/html": [
              "<div>\n",
              "<style scoped>\n",
              "    .dataframe tbody tr th:only-of-type {\n",
              "        vertical-align: middle;\n",
              "    }\n",
              "\n",
              "    .dataframe tbody tr th {\n",
              "        vertical-align: top;\n",
              "    }\n",
              "\n",
              "    .dataframe thead th {\n",
              "        text-align: right;\n",
              "    }\n",
              "</style>\n",
              "<table border=\"1\" class=\"dataframe\">\n",
              "  <thead>\n",
              "    <tr style=\"text-align: right;\">\n",
              "      <th></th>\n",
              "      <th>0</th>\n",
              "    </tr>\n",
              "  </thead>\n",
              "  <tbody>\n",
              "    <tr>\n",
              "      <th>id</th>\n",
              "      <td>0</td>\n",
              "    </tr>\n",
              "    <tr>\n",
              "      <th>Name</th>\n",
              "      <td>0</td>\n",
              "    </tr>\n",
              "    <tr>\n",
              "      <th>Gender</th>\n",
              "      <td>0</td>\n",
              "    </tr>\n",
              "    <tr>\n",
              "      <th>Age</th>\n",
              "      <td>0</td>\n",
              "    </tr>\n",
              "    <tr>\n",
              "      <th>City</th>\n",
              "      <td>0</td>\n",
              "    </tr>\n",
              "    <tr>\n",
              "      <th>Working Professional or Student</th>\n",
              "      <td>0</td>\n",
              "    </tr>\n",
              "    <tr>\n",
              "      <th>Profession</th>\n",
              "      <td>36630</td>\n",
              "    </tr>\n",
              "    <tr>\n",
              "      <th>Academic Pressure</th>\n",
              "      <td>112803</td>\n",
              "    </tr>\n",
              "    <tr>\n",
              "      <th>Work Pressure</th>\n",
              "      <td>27918</td>\n",
              "    </tr>\n",
              "    <tr>\n",
              "      <th>CGPA</th>\n",
              "      <td>112802</td>\n",
              "    </tr>\n",
              "    <tr>\n",
              "      <th>Study Satisfaction</th>\n",
              "      <td>112803</td>\n",
              "    </tr>\n",
              "    <tr>\n",
              "      <th>Job Satisfaction</th>\n",
              "      <td>27910</td>\n",
              "    </tr>\n",
              "    <tr>\n",
              "      <th>Sleep Duration</th>\n",
              "      <td>0</td>\n",
              "    </tr>\n",
              "    <tr>\n",
              "      <th>Dietary Habits</th>\n",
              "      <td>4</td>\n",
              "    </tr>\n",
              "    <tr>\n",
              "      <th>Degree</th>\n",
              "      <td>2</td>\n",
              "    </tr>\n",
              "    <tr>\n",
              "      <th>Have you ever had suicidal thoughts ?</th>\n",
              "      <td>0</td>\n",
              "    </tr>\n",
              "    <tr>\n",
              "      <th>Work/Study Hours</th>\n",
              "      <td>0</td>\n",
              "    </tr>\n",
              "    <tr>\n",
              "      <th>Financial Stress</th>\n",
              "      <td>4</td>\n",
              "    </tr>\n",
              "    <tr>\n",
              "      <th>Family History of Mental Illness</th>\n",
              "      <td>0</td>\n",
              "    </tr>\n",
              "    <tr>\n",
              "      <th>Depression</th>\n",
              "      <td>0</td>\n",
              "    </tr>\n",
              "  </tbody>\n",
              "</table>\n",
              "</div><br><label><b>dtype:</b> int64</label>"
            ]
          },
          "metadata": {},
          "execution_count": 4
        }
      ],
      "source": [
        "train.isnull().sum()"
      ]
    },
    {
      "cell_type": "code",
      "execution_count": null,
      "metadata": {
        "colab": {
          "base_uri": "https://localhost:8080/"
        },
        "id": "w9x3lRP4pK7Q",
        "outputId": "9b29e524-5e71-445d-8f9d-86bb67ff1925"
      },
      "outputs": [
        {
          "output_type": "stream",
          "name": "stdout",
          "text": [
            "Number of columns with null values: 9\n"
          ]
        }
      ],
      "source": [
        "null_cols = train.isnull().sum()\n",
        "num_null_cols = len(null_cols[null_cols > 0])\n",
        "print(f\"Number of columns with null values: {num_null_cols}\")"
      ]
    },
    {
      "cell_type": "code",
      "execution_count": null,
      "metadata": {
        "id": "mHe0G4fXpfTz"
      },
      "outputs": [],
      "source": [
        "# prompt: convert null columns if it is object use mode imputer if it is int8,flota32 use mean imputer\n",
        "\n",
        "import pandas as pd\n",
        "import numpy as np\n",
        "from sklearn.impute import SimpleImputer\n",
        "\n",
        "# Assuming 'train' DataFrame is already loaded as shown in the previous code\n",
        "\n",
        "# Identify columns with null values\n",
        "null_cols = train.columns[train.isnull().any()]\n",
        "\n",
        "# Iterate through columns with null values\n",
        "for col in null_cols:\n",
        "    if train[col].dtype == 'object':\n",
        "        # Use mode imputation for object type columns\n",
        "        imputer = SimpleImputer(strategy='most_frequent')\n",
        "        # Reshape the output of fit_transform to 1D\n",
        "        train[col] = imputer.fit_transform(train[[col]]).ravel()\n",
        "    elif train[col].dtype in ['int8', 'float32', 'float64', 'int64', 'int32']:\n",
        "        # Use mean imputation for numerical type columns\n",
        "        imputer = SimpleImputer(strategy='mean')\n",
        "        # Reshape the output of fit_transform to 1D\n",
        "        train[col] = imputer.fit_transform(train[[col]]).ravel()\n",
        "    else:\n",
        "        print(f\"Column '{col}' has unsupported data type: {train[col].dtype}\")"
      ]
    },
    {
      "cell_type": "code",
      "execution_count": null,
      "metadata": {
        "colab": {
          "base_uri": "https://localhost:8080/",
          "height": 711
        },
        "id": "9u08Um2Dprks",
        "outputId": "19823593-d3de-4ba5-b0e1-05e8b8fff221"
      },
      "outputs": [
        {
          "output_type": "execute_result",
          "data": {
            "text/plain": [
              "id                                       0\n",
              "Name                                     0\n",
              "Gender                                   0\n",
              "Age                                      0\n",
              "City                                     0\n",
              "Working Professional or Student          0\n",
              "Profession                               0\n",
              "Academic Pressure                        0\n",
              "Work Pressure                            0\n",
              "CGPA                                     0\n",
              "Study Satisfaction                       0\n",
              "Job Satisfaction                         0\n",
              "Sleep Duration                           0\n",
              "Dietary Habits                           0\n",
              "Degree                                   0\n",
              "Have you ever had suicidal thoughts ?    0\n",
              "Work/Study Hours                         0\n",
              "Financial Stress                         0\n",
              "Family History of Mental Illness         0\n",
              "Depression                               0\n",
              "dtype: int64"
            ],
            "text/html": [
              "<div>\n",
              "<style scoped>\n",
              "    .dataframe tbody tr th:only-of-type {\n",
              "        vertical-align: middle;\n",
              "    }\n",
              "\n",
              "    .dataframe tbody tr th {\n",
              "        vertical-align: top;\n",
              "    }\n",
              "\n",
              "    .dataframe thead th {\n",
              "        text-align: right;\n",
              "    }\n",
              "</style>\n",
              "<table border=\"1\" class=\"dataframe\">\n",
              "  <thead>\n",
              "    <tr style=\"text-align: right;\">\n",
              "      <th></th>\n",
              "      <th>0</th>\n",
              "    </tr>\n",
              "  </thead>\n",
              "  <tbody>\n",
              "    <tr>\n",
              "      <th>id</th>\n",
              "      <td>0</td>\n",
              "    </tr>\n",
              "    <tr>\n",
              "      <th>Name</th>\n",
              "      <td>0</td>\n",
              "    </tr>\n",
              "    <tr>\n",
              "      <th>Gender</th>\n",
              "      <td>0</td>\n",
              "    </tr>\n",
              "    <tr>\n",
              "      <th>Age</th>\n",
              "      <td>0</td>\n",
              "    </tr>\n",
              "    <tr>\n",
              "      <th>City</th>\n",
              "      <td>0</td>\n",
              "    </tr>\n",
              "    <tr>\n",
              "      <th>Working Professional or Student</th>\n",
              "      <td>0</td>\n",
              "    </tr>\n",
              "    <tr>\n",
              "      <th>Profession</th>\n",
              "      <td>0</td>\n",
              "    </tr>\n",
              "    <tr>\n",
              "      <th>Academic Pressure</th>\n",
              "      <td>0</td>\n",
              "    </tr>\n",
              "    <tr>\n",
              "      <th>Work Pressure</th>\n",
              "      <td>0</td>\n",
              "    </tr>\n",
              "    <tr>\n",
              "      <th>CGPA</th>\n",
              "      <td>0</td>\n",
              "    </tr>\n",
              "    <tr>\n",
              "      <th>Study Satisfaction</th>\n",
              "      <td>0</td>\n",
              "    </tr>\n",
              "    <tr>\n",
              "      <th>Job Satisfaction</th>\n",
              "      <td>0</td>\n",
              "    </tr>\n",
              "    <tr>\n",
              "      <th>Sleep Duration</th>\n",
              "      <td>0</td>\n",
              "    </tr>\n",
              "    <tr>\n",
              "      <th>Dietary Habits</th>\n",
              "      <td>0</td>\n",
              "    </tr>\n",
              "    <tr>\n",
              "      <th>Degree</th>\n",
              "      <td>0</td>\n",
              "    </tr>\n",
              "    <tr>\n",
              "      <th>Have you ever had suicidal thoughts ?</th>\n",
              "      <td>0</td>\n",
              "    </tr>\n",
              "    <tr>\n",
              "      <th>Work/Study Hours</th>\n",
              "      <td>0</td>\n",
              "    </tr>\n",
              "    <tr>\n",
              "      <th>Financial Stress</th>\n",
              "      <td>0</td>\n",
              "    </tr>\n",
              "    <tr>\n",
              "      <th>Family History of Mental Illness</th>\n",
              "      <td>0</td>\n",
              "    </tr>\n",
              "    <tr>\n",
              "      <th>Depression</th>\n",
              "      <td>0</td>\n",
              "    </tr>\n",
              "  </tbody>\n",
              "</table>\n",
              "</div><br><label><b>dtype:</b> int64</label>"
            ]
          },
          "metadata": {},
          "execution_count": 7
        }
      ],
      "source": [
        "train.isnull().sum()"
      ]
    },
    {
      "cell_type": "code",
      "execution_count": null,
      "metadata": {
        "colab": {
          "base_uri": "https://localhost:8080/"
        },
        "id": "jsxIhIbbpvuv",
        "outputId": "c738c3eb-0a9e-4de4-d86c-b56d9442a76c"
      },
      "outputs": [
        {
          "output_type": "stream",
          "name": "stdout",
          "text": [
            "Number of columns with null values: 0\n"
          ]
        }
      ],
      "source": [
        "null_cols = train.isnull().sum()\n",
        "num_null_cols = len(null_cols[null_cols > 0])\n",
        "print(f\"Number of columns with null values: {num_null_cols}\")"
      ]
    },
    {
      "cell_type": "code",
      "execution_count": null,
      "metadata": {
        "colab": {
          "base_uri": "https://localhost:8080/",
          "height": 711
        },
        "id": "sHQ0cf57pyiz",
        "outputId": "a6e8eeab-de0e-4c25-db9a-daa681fe3fa3"
      },
      "outputs": [
        {
          "output_type": "execute_result",
          "data": {
            "text/plain": [
              "id                                         int64\n",
              "Name                                      object\n",
              "Gender                                    object\n",
              "Age                                      float64\n",
              "City                                      object\n",
              "Working Professional or Student           object\n",
              "Profession                                object\n",
              "Academic Pressure                        float64\n",
              "Work Pressure                            float64\n",
              "CGPA                                     float64\n",
              "Study Satisfaction                       float64\n",
              "Job Satisfaction                         float64\n",
              "Sleep Duration                            object\n",
              "Dietary Habits                            object\n",
              "Degree                                    object\n",
              "Have you ever had suicidal thoughts ?     object\n",
              "Work/Study Hours                         float64\n",
              "Financial Stress                         float64\n",
              "Family History of Mental Illness          object\n",
              "Depression                                 int64\n",
              "dtype: object"
            ],
            "text/html": [
              "<div>\n",
              "<style scoped>\n",
              "    .dataframe tbody tr th:only-of-type {\n",
              "        vertical-align: middle;\n",
              "    }\n",
              "\n",
              "    .dataframe tbody tr th {\n",
              "        vertical-align: top;\n",
              "    }\n",
              "\n",
              "    .dataframe thead th {\n",
              "        text-align: right;\n",
              "    }\n",
              "</style>\n",
              "<table border=\"1\" class=\"dataframe\">\n",
              "  <thead>\n",
              "    <tr style=\"text-align: right;\">\n",
              "      <th></th>\n",
              "      <th>0</th>\n",
              "    </tr>\n",
              "  </thead>\n",
              "  <tbody>\n",
              "    <tr>\n",
              "      <th>id</th>\n",
              "      <td>int64</td>\n",
              "    </tr>\n",
              "    <tr>\n",
              "      <th>Name</th>\n",
              "      <td>object</td>\n",
              "    </tr>\n",
              "    <tr>\n",
              "      <th>Gender</th>\n",
              "      <td>object</td>\n",
              "    </tr>\n",
              "    <tr>\n",
              "      <th>Age</th>\n",
              "      <td>float64</td>\n",
              "    </tr>\n",
              "    <tr>\n",
              "      <th>City</th>\n",
              "      <td>object</td>\n",
              "    </tr>\n",
              "    <tr>\n",
              "      <th>Working Professional or Student</th>\n",
              "      <td>object</td>\n",
              "    </tr>\n",
              "    <tr>\n",
              "      <th>Profession</th>\n",
              "      <td>object</td>\n",
              "    </tr>\n",
              "    <tr>\n",
              "      <th>Academic Pressure</th>\n",
              "      <td>float64</td>\n",
              "    </tr>\n",
              "    <tr>\n",
              "      <th>Work Pressure</th>\n",
              "      <td>float64</td>\n",
              "    </tr>\n",
              "    <tr>\n",
              "      <th>CGPA</th>\n",
              "      <td>float64</td>\n",
              "    </tr>\n",
              "    <tr>\n",
              "      <th>Study Satisfaction</th>\n",
              "      <td>float64</td>\n",
              "    </tr>\n",
              "    <tr>\n",
              "      <th>Job Satisfaction</th>\n",
              "      <td>float64</td>\n",
              "    </tr>\n",
              "    <tr>\n",
              "      <th>Sleep Duration</th>\n",
              "      <td>object</td>\n",
              "    </tr>\n",
              "    <tr>\n",
              "      <th>Dietary Habits</th>\n",
              "      <td>object</td>\n",
              "    </tr>\n",
              "    <tr>\n",
              "      <th>Degree</th>\n",
              "      <td>object</td>\n",
              "    </tr>\n",
              "    <tr>\n",
              "      <th>Have you ever had suicidal thoughts ?</th>\n",
              "      <td>object</td>\n",
              "    </tr>\n",
              "    <tr>\n",
              "      <th>Work/Study Hours</th>\n",
              "      <td>float64</td>\n",
              "    </tr>\n",
              "    <tr>\n",
              "      <th>Financial Stress</th>\n",
              "      <td>float64</td>\n",
              "    </tr>\n",
              "    <tr>\n",
              "      <th>Family History of Mental Illness</th>\n",
              "      <td>object</td>\n",
              "    </tr>\n",
              "    <tr>\n",
              "      <th>Depression</th>\n",
              "      <td>int64</td>\n",
              "    </tr>\n",
              "  </tbody>\n",
              "</table>\n",
              "</div><br><label><b>dtype:</b> object</label>"
            ]
          },
          "metadata": {},
          "execution_count": 9
        }
      ],
      "source": [
        "train.dtypes"
      ]
    },
    {
      "cell_type": "code",
      "execution_count": null,
      "metadata": {
        "colab": {
          "base_uri": "https://localhost:8080/",
          "height": 711
        },
        "id": "rcN2Gn_Dp_wJ",
        "outputId": "d4f9c9c5-e6de-4e2f-d17f-6e5b447ce2c3"
      },
      "outputs": [
        {
          "output_type": "execute_result",
          "data": {
            "text/plain": [
              "id                                         int64\n",
              "Name                                       int64\n",
              "Gender                                     int64\n",
              "Age                                      float64\n",
              "City                                       int64\n",
              "Working Professional or Student            int64\n",
              "Profession                                 int64\n",
              "Academic Pressure                        float64\n",
              "Work Pressure                            float64\n",
              "CGPA                                     float64\n",
              "Study Satisfaction                       float64\n",
              "Job Satisfaction                         float64\n",
              "Sleep Duration                             int64\n",
              "Dietary Habits                             int64\n",
              "Degree                                     int64\n",
              "Have you ever had suicidal thoughts ?      int64\n",
              "Work/Study Hours                         float64\n",
              "Financial Stress                         float64\n",
              "Family History of Mental Illness           int64\n",
              "Depression                                 int64\n",
              "dtype: object"
            ],
            "text/html": [
              "<div>\n",
              "<style scoped>\n",
              "    .dataframe tbody tr th:only-of-type {\n",
              "        vertical-align: middle;\n",
              "    }\n",
              "\n",
              "    .dataframe tbody tr th {\n",
              "        vertical-align: top;\n",
              "    }\n",
              "\n",
              "    .dataframe thead th {\n",
              "        text-align: right;\n",
              "    }\n",
              "</style>\n",
              "<table border=\"1\" class=\"dataframe\">\n",
              "  <thead>\n",
              "    <tr style=\"text-align: right;\">\n",
              "      <th></th>\n",
              "      <th>0</th>\n",
              "    </tr>\n",
              "  </thead>\n",
              "  <tbody>\n",
              "    <tr>\n",
              "      <th>id</th>\n",
              "      <td>int64</td>\n",
              "    </tr>\n",
              "    <tr>\n",
              "      <th>Name</th>\n",
              "      <td>int64</td>\n",
              "    </tr>\n",
              "    <tr>\n",
              "      <th>Gender</th>\n",
              "      <td>int64</td>\n",
              "    </tr>\n",
              "    <tr>\n",
              "      <th>Age</th>\n",
              "      <td>float64</td>\n",
              "    </tr>\n",
              "    <tr>\n",
              "      <th>City</th>\n",
              "      <td>int64</td>\n",
              "    </tr>\n",
              "    <tr>\n",
              "      <th>Working Professional or Student</th>\n",
              "      <td>int64</td>\n",
              "    </tr>\n",
              "    <tr>\n",
              "      <th>Profession</th>\n",
              "      <td>int64</td>\n",
              "    </tr>\n",
              "    <tr>\n",
              "      <th>Academic Pressure</th>\n",
              "      <td>float64</td>\n",
              "    </tr>\n",
              "    <tr>\n",
              "      <th>Work Pressure</th>\n",
              "      <td>float64</td>\n",
              "    </tr>\n",
              "    <tr>\n",
              "      <th>CGPA</th>\n",
              "      <td>float64</td>\n",
              "    </tr>\n",
              "    <tr>\n",
              "      <th>Study Satisfaction</th>\n",
              "      <td>float64</td>\n",
              "    </tr>\n",
              "    <tr>\n",
              "      <th>Job Satisfaction</th>\n",
              "      <td>float64</td>\n",
              "    </tr>\n",
              "    <tr>\n",
              "      <th>Sleep Duration</th>\n",
              "      <td>int64</td>\n",
              "    </tr>\n",
              "    <tr>\n",
              "      <th>Dietary Habits</th>\n",
              "      <td>int64</td>\n",
              "    </tr>\n",
              "    <tr>\n",
              "      <th>Degree</th>\n",
              "      <td>int64</td>\n",
              "    </tr>\n",
              "    <tr>\n",
              "      <th>Have you ever had suicidal thoughts ?</th>\n",
              "      <td>int64</td>\n",
              "    </tr>\n",
              "    <tr>\n",
              "      <th>Work/Study Hours</th>\n",
              "      <td>float64</td>\n",
              "    </tr>\n",
              "    <tr>\n",
              "      <th>Financial Stress</th>\n",
              "      <td>float64</td>\n",
              "    </tr>\n",
              "    <tr>\n",
              "      <th>Family History of Mental Illness</th>\n",
              "      <td>int64</td>\n",
              "    </tr>\n",
              "    <tr>\n",
              "      <th>Depression</th>\n",
              "      <td>int64</td>\n",
              "    </tr>\n",
              "  </tbody>\n",
              "</table>\n",
              "</div><br><label><b>dtype:</b> object</label>"
            ]
          },
          "metadata": {},
          "execution_count": 10
        }
      ],
      "source": [
        "# prompt: check all columns in train id dtype is object convert them into int using encoding\n",
        "\n",
        "import pandas as pd\n",
        "import numpy as np\n",
        "from sklearn.model_selection import train_test_split\n",
        "from sklearn.impute import SimpleImputer\n",
        "from sklearn.preprocessing import StandardScaler, OneHotEncoder\n",
        "from sklearn.compose import ColumnTransformer\n",
        "\n",
        "test = pd.read_csv('/content/test (2).csv')\n",
        "train = pd.read_csv('/content/train (2).csv')\n",
        "\n",
        "# Identify columns with null values\n",
        "null_cols = train.columns[train.isnull().any()]\n",
        "\n",
        "# Iterate through columns with null values\n",
        "for col in null_cols:\n",
        "    if train[col].dtype == 'object':\n",
        "        # Use mode imputation for object type columns\n",
        "        imputer = SimpleImputer(strategy='most_frequent')\n",
        "        train[col] = imputer.fit_transform(train[[col]]).ravel()\n",
        "    elif train[col].dtype in ['int8', 'float32', 'float64', 'int64', 'int32']:\n",
        "        # Use mean imputation for numerical type columns\n",
        "        imputer = SimpleImputer(strategy='mean')\n",
        "        train[col] = imputer.fit_transform(train[[col]]).ravel()\n",
        "    else:\n",
        "        print(f\"Column '{col}' has unsupported data type: {train[col].dtype}\")\n",
        "\n",
        "\n",
        "# Find columns with 'object' dtype\n",
        "object_cols = train.select_dtypes(include='object').columns\n",
        "\n",
        "# Encode object columns using Label Encoding\n",
        "from sklearn.preprocessing import LabelEncoder\n",
        "\n",
        "for col in object_cols:\n",
        "    le = LabelEncoder()\n",
        "    train[col] = le.fit_transform(train[col])\n",
        "\n",
        "train.dtypes"
      ]
    },
    {
      "cell_type": "code",
      "execution_count": null,
      "metadata": {
        "colab": {
          "base_uri": "https://localhost:8080/"
        },
        "id": "Z7GMv2AdqFHv",
        "outputId": "15e534fb-3c77-4c77-9220-fb94d9c08601"
      },
      "outputs": [
        {
          "output_type": "execute_result",
          "data": {
            "text/plain": [
              "array([dtype('int64'), dtype('float64')], dtype=object)"
            ]
          },
          "metadata": {},
          "execution_count": 11
        }
      ],
      "source": [
        "train.dtypes.unique()"
      ]
    },
    {
      "cell_type": "code",
      "execution_count": null,
      "metadata": {
        "colab": {
          "base_uri": "https://localhost:8080/"
        },
        "id": "q82szdlsqKls",
        "outputId": "ca022350-21ba-4aff-f6df-e158bb2d1c2f"
      },
      "outputs": [
        {
          "output_type": "stream",
          "name": "stdout",
          "text": [
            "Depression                               1.000000\n",
            "Age                                      0.564671\n",
            "Working Professional or Student          0.520790\n",
            "Have you ever had suicidal thoughts ?    0.349066\n",
            "Profession                               0.283113\n",
            "Academic Pressure                        0.270225\n",
            "Financial Stress                         0.227232\n",
            "Work/Study Hours                         0.191746\n",
            "Dietary Habits                           0.143415\n",
            "Work Pressure                            0.137823\n",
            "Job Satisfaction                         0.107254\n",
            "Study Satisfaction                       0.095577\n",
            "Degree                                   0.045547\n",
            "Name                                     0.028897\n",
            "City                                     0.020915\n",
            "Family History of Mental Illness         0.016502\n",
            "Sleep Duration                           0.014454\n",
            "CGPA                                     0.012361\n",
            "Gender                                   0.008144\n",
            "id                                       0.003944\n",
            "Name: Depression, dtype: float64\n"
          ]
        }
      ],
      "source": [
        "correlations = train.corr()['Depression'].abs().sort_values(ascending=False)\n",
        "print(correlations)"
      ]
    },
    {
      "cell_type": "code",
      "execution_count": null,
      "metadata": {
        "colab": {
          "base_uri": "https://localhost:8080/"
        },
        "id": "ZnfZNUoLqhbk",
        "outputId": "1b9a26ea-ba75-4cb7-bfd1-ce7589208847"
      },
      "outputs": [
        {
          "output_type": "stream",
          "name": "stdout",
          "text": [
            "int64\n"
          ]
        }
      ],
      "source": [
        "print(train['Depression'].dtype)"
      ]
    },
    {
      "cell_type": "code",
      "execution_count": null,
      "metadata": {
        "id": "aUKa1alxrBsj"
      },
      "outputs": [],
      "source": [
        "from sklearn.preprocessing import OrdinalEncoder\n",
        "\n",
        "# Create OrdinalEncoder object\n",
        "enc = OrdinalEncoder(categories=[['0', '1']])\n",
        "# Fit and transform the data\n",
        "train['Depression'] = enc.fit_transform(train[['Depression']]).astype(int)"
      ]
    },
    {
      "cell_type": "code",
      "execution_count": null,
      "metadata": {
        "id": "pKozG-qusMTK"
      },
      "outputs": [],
      "source": [
        "from sklearn.tree import DecisionTreeClassifier\n",
        "from sklearn.model_selection import train_test_split\n",
        "\n",
        "# Assuming 'train' is your DataFrame and 'sii' is your target variable\n",
        "X = train.drop('Depression', axis=1)\n",
        "y = train['Depression']\n",
        "\n",
        "# Split the data into training and testing sets\n",
        "X_train, X_test, y_train, y_test = train_test_split(X, y, test_size=0.2, random_state=42)\n",
        "\n",
        "# Create and train the Decision Tree Classifier\n",
        "tree_model = DecisionTreeClassifier(random_state=42)\n",
        "tree_model.fit(X_train, y_train)\n",
        "\n",
        "# Get feature importances\n",
        "feature_importances = tree_model.feature_importances_\n"
      ]
    },
    {
      "cell_type": "code",
      "execution_count": null,
      "metadata": {
        "colab": {
          "base_uri": "https://localhost:8080/"
        },
        "id": "o7K-3M7esSBQ",
        "outputId": "0c106921-39d6-4a24-c8f6-107c24d53943"
      },
      "outputs": [
        {
          "output_type": "stream",
          "name": "stdout",
          "text": [
            "Accuracy: 0.9024164889836531\n",
            "              precision    recall  f1-score   support\n",
            "\n",
            "           0       0.94      0.94      0.94     22986\n",
            "           1       0.73      0.74      0.74      5154\n",
            "\n",
            "    accuracy                           0.90     28140\n",
            "   macro avg       0.84      0.84      0.84     28140\n",
            "weighted avg       0.90      0.90      0.90     28140\n",
            "\n"
          ]
        }
      ],
      "source": [
        "from sklearn.metrics import accuracy_score, classification_report\n",
        "\n",
        "# Make predictions on the test set\n",
        "y_pred = tree_model.predict(X_test)\n",
        "\n",
        "# Calculate accuracy\n",
        "accuracy = accuracy_score(y_test, y_pred)\n",
        "print(f\"Accuracy: {accuracy}\")\n",
        "\n",
        "# Print classification report (includes precision, recall, F1-score)\n",
        "print(classification_report(y_test, y_pred))"
      ]
    },
    {
      "cell_type": "code",
      "execution_count": null,
      "metadata": {
        "colab": {
          "base_uri": "https://localhost:8080/"
        },
        "id": "ZBgqOvbosXFY",
        "outputId": "d9fc6fac-4928-4afa-afef-eabab305c351"
      },
      "outputs": [
        {
          "output_type": "stream",
          "name": "stdout",
          "text": [
            "Random Forest Accuracy: 0.9360341151385928\n",
            "              precision    recall  f1-score   support\n",
            "\n",
            "           0       0.95      0.97      0.96     22986\n",
            "           1       0.85      0.79      0.82      5154\n",
            "\n",
            "    accuracy                           0.94     28140\n",
            "   macro avg       0.90      0.88      0.89     28140\n",
            "weighted avg       0.93      0.94      0.94     28140\n",
            "\n"
          ]
        }
      ],
      "source": [
        "# prompt: random forest\n",
        "\n",
        "# Create and train the Random Forest Classifier\n",
        "rf_model = RandomForestClassifier(random_state=42)\n",
        "rf_model.fit(X_train, y_train)\n",
        "\n",
        "# Make predictions on the test set\n",
        "y_pred_rf = rf_model.predict(X_test)\n",
        "\n",
        "# Calculate accuracy\n",
        "accuracy_rf = accuracy_score(y_test, y_pred_rf)\n",
        "print(f\"Random Forest Accuracy: {accuracy_rf}\")\n",
        "\n",
        "# Print classification report (includes precision, recall, F1-score)\n",
        "print(classification_report(y_test, y_pred_rf))"
      ]
    },
    {
      "cell_type": "code",
      "execution_count": null,
      "metadata": {
        "colab": {
          "base_uri": "https://localhost:8080/"
        },
        "id": "2sQHlNKNy86P",
        "outputId": "8ee9ee3b-b287-420d-935e-4830aee1591b"
      },
      "outputs": [
        {
          "output_type": "stream",
          "name": "stdout",
          "text": [
            "Requirement already satisfied: lightgbm in /usr/local/lib/python3.10/dist-packages (4.5.0)\n",
            "Requirement already satisfied: xgboost in /usr/local/lib/python3.10/dist-packages (2.1.2)\n",
            "Requirement already satisfied: catboost in /usr/local/lib/python3.10/dist-packages (1.2.7)\n",
            "Requirement already satisfied: numpy>=1.17.0 in /usr/local/lib/python3.10/dist-packages (from lightgbm) (1.26.4)\n",
            "Requirement already satisfied: scipy in /usr/local/lib/python3.10/dist-packages (from lightgbm) (1.13.1)\n",
            "Requirement already satisfied: nvidia-nccl-cu12 in /usr/local/lib/python3.10/dist-packages (from xgboost) (2.23.4)\n",
            "Requirement already satisfied: graphviz in /usr/local/lib/python3.10/dist-packages (from catboost) (0.20.3)\n",
            "Requirement already satisfied: matplotlib in /usr/local/lib/python3.10/dist-packages (from catboost) (3.8.0)\n",
            "Requirement already satisfied: pandas>=0.24 in /usr/local/lib/python3.10/dist-packages (from catboost) (2.2.2)\n",
            "Requirement already satisfied: plotly in /usr/local/lib/python3.10/dist-packages (from catboost) (5.24.1)\n",
            "Requirement already satisfied: six in /usr/local/lib/python3.10/dist-packages (from catboost) (1.16.0)\n",
            "Requirement already satisfied: python-dateutil>=2.8.2 in /usr/local/lib/python3.10/dist-packages (from pandas>=0.24->catboost) (2.8.2)\n",
            "Requirement already satisfied: pytz>=2020.1 in /usr/local/lib/python3.10/dist-packages (from pandas>=0.24->catboost) (2024.2)\n",
            "Requirement already satisfied: tzdata>=2022.7 in /usr/local/lib/python3.10/dist-packages (from pandas>=0.24->catboost) (2024.2)\n",
            "Requirement already satisfied: contourpy>=1.0.1 in /usr/local/lib/python3.10/dist-packages (from matplotlib->catboost) (1.3.1)\n",
            "Requirement already satisfied: cycler>=0.10 in /usr/local/lib/python3.10/dist-packages (from matplotlib->catboost) (0.12.1)\n",
            "Requirement already satisfied: fonttools>=4.22.0 in /usr/local/lib/python3.10/dist-packages (from matplotlib->catboost) (4.55.0)\n",
            "Requirement already satisfied: kiwisolver>=1.0.1 in /usr/local/lib/python3.10/dist-packages (from matplotlib->catboost) (1.4.7)\n",
            "Requirement already satisfied: packaging>=20.0 in /usr/local/lib/python3.10/dist-packages (from matplotlib->catboost) (24.2)\n",
            "Requirement already satisfied: pillow>=6.2.0 in /usr/local/lib/python3.10/dist-packages (from matplotlib->catboost) (11.0.0)\n",
            "Requirement already satisfied: pyparsing>=2.3.1 in /usr/local/lib/python3.10/dist-packages (from matplotlib->catboost) (3.2.0)\n",
            "Requirement already satisfied: tenacity>=6.2.0 in /usr/local/lib/python3.10/dist-packages (from plotly->catboost) (9.0.0)\n",
            "[LightGBM] [Warning] Found whitespace in feature_names, replace with underlines\n",
            "[LightGBM] [Info] Number of positive: 20413, number of negative: 92147\n",
            "[LightGBM] [Info] Auto-choosing row-wise multi-threading, the overhead of testing was 0.011603 seconds.\n",
            "You can set `force_row_wise=true` to remove the overhead.\n",
            "And if memory is not enough, you can set `force_col_wise=true`.\n",
            "[LightGBM] [Info] Total Bins 919\n",
            "[LightGBM] [Info] Number of data points in the train set: 112560, number of used features: 19\n",
            "[LightGBM] [Info] [binary:BoostFromScore]: pavg=0.181352 -> initscore=-1.507213\n",
            "[LightGBM] [Info] Start training from score -1.507213\n",
            "Ensemble Accuracy: 0.9393390191897655\n",
            "              precision    recall  f1-score   support\n",
            "\n",
            "           0       0.96      0.97      0.96     22986\n",
            "           1       0.84      0.82      0.83      5154\n",
            "\n",
            "    accuracy                           0.94     28140\n",
            "   macro avg       0.90      0.89      0.90     28140\n",
            "weighted avg       0.94      0.94      0.94     28140\n",
            "\n"
          ]
        }
      ],
      "source": [
        "# prompt: generate a code for predicting the depression 1 or 0 using LGBM ,XGBoost,CatBoost in ensemble method\n",
        "\n",
        "!pip install lightgbm xgboost catboost\n",
        "\n",
        "import pandas as pd\n",
        "import numpy as np\n",
        "from sklearn.model_selection import train_test_split\n",
        "from sklearn.metrics import accuracy_score, classification_report\n",
        "from lightgbm import LGBMClassifier\n",
        "from xgboost import XGBClassifier\n",
        "from catboost import CatBoostClassifier\n",
        "from sklearn.preprocessing import OrdinalEncoder # Import OrdinalEncoder for categorical feature encoding\n",
        "\n",
        "# Assuming 'train' DataFrame is already preprocessed as in the previous code\n",
        "\n",
        "# Separate features (X) and target variable (y)\n",
        "X = train.drop('Depression', axis=1)\n",
        "y = train['Depression']\n",
        "\n",
        "# Split the data into training and testing sets\n",
        "X_train, X_test, y_train, y_test = train_test_split(X, y, test_size=0.2, random_state=42)\n",
        "\n",
        "# Initialize models\n",
        "lgbm_model = LGBMClassifier(random_state=42)\n",
        "xgb_model = XGBClassifier(random_state=42)\n",
        "catboost_model = CatBoostClassifier(random_state=42, verbose=0) # Set verbose=0 to suppress training output\n",
        "\n",
        "# Train models\n",
        "lgbm_model.fit(X_train, y_train)\n",
        "xgb_model.fit(X_train, y_train)\n",
        "catboost_model.fit(X_train, y_train)\n",
        "\n",
        "# ---->  Encode categorical features in the 'test' DataFrame\n",
        "categorical_features = ['Name', 'Gender', 'City', 'Working Professional or Student', 'Profession', 'Sleep Duration', 'Dietary Habits', 'Degree', 'Have you ever had suicidal thoughts ?', 'Family History of Mental Illness']\n",
        "enc = OrdinalEncoder() # Create an OrdinalEncoder object\n",
        "test[categorical_features] = enc.fit_transform(test[categorical_features]) # Fit and transform the categorical features in 'test'\n",
        "\n",
        "\n",
        "lgbm_pred = lgbm_model.predict(X_test)\n",
        "xgb_pred = xgb_model.predict(X_test)\n",
        "catboost_pred = catboost_model.predict(X_test)\n",
        "\n",
        "# Ensemble predictions (simple averaging)\n",
        "ensemble_pred = np.round((lgbm_pred + xgb_pred + catboost_pred) / 3).astype(int)\n",
        "\n",
        "# Evaluate ensemble\n",
        "accuracy_ensemble = accuracy_score(y_test, ensemble_pred)\n",
        "print(f\"Ensemble Accuracy: {accuracy_ensemble}\")\n",
        "print(classification_report(y_test, ensemble_pred))"
      ]
    },
    {
      "cell_type": "code",
      "execution_count": null,
      "metadata": {
        "colab": {
          "base_uri": "https://localhost:8080/"
        },
        "id": "Mknv4gGJSFnG",
        "outputId": "8843cd81-c6ab-4059-cd6d-7714b536cf8b"
      },
      "outputs": [
        {
          "output_type": "stream",
          "name": "stdout",
          "text": [
            "28140\n"
          ]
        }
      ],
      "source": [
        "# prompt: count number of elements in ensemble_pred\n",
        "\n",
        "print(len(ensemble_pred))"
      ]
    },
    {
      "cell_type": "code",
      "execution_count": null,
      "metadata": {
        "id": "xsU8ALT9VieN"
      },
      "outputs": [],
      "source": [
        "# Assuming 'test' is your DataFrame\n",
        "\n",
        "# Import necessary libraries\n",
        "from sklearn.preprocessing import LabelEncoder, OneHotEncoder\n",
        "from sklearn.compose import ColumnTransformer\n",
        "\n",
        "# Identify categorical features for encoding\n",
        "categorical_features = ['Name', 'Gender', 'City', 'Working Professional or Student',\n",
        "                         'Profession', 'Sleep Duration', 'Dietary Habits', 'Degree',\n",
        "                         'Have you ever had suicidal thoughts ?', 'Family History of Mental Illness']\n",
        "\n",
        "# Create a ColumnTransformer to apply different encodings\n",
        "# Passthrough all columns in X"
      ]
    },
    {
      "cell_type": "code",
      "execution_count": null,
      "metadata": {
        "id": "OPLrIigFmHTZ"
      },
      "outputs": [],
      "source": [
        "lgbm_pred = lgbm_model.predict(test)\n",
        "xgb_pred = xgb_model.predict(test)\n",
        "catboost_pred = catboost_model.predict(test)\n",
        "\n",
        "# Ensemble predictions (simple averaging)\n",
        "ensemble_pred = np.round((lgbm_pred + xgb_pred + catboost_pred) / 3).astype(int)\n"
      ]
    },
    {
      "cell_type": "code",
      "execution_count": null,
      "metadata": {
        "id": "kpQbA1yLQuve"
      },
      "outputs": [],
      "source": [
        "import lightgbm as lgb\n",
        "from xgboost import XGBClassifier  # or XGBRegressor for regression\n",
        "from catboost import CatBoostClassifier  # or CatBoostRegressor for regression\n",
        "from sklearn.model_selection import KFold\n",
        "from sklearn.pipeline import Pipeline\n",
        "from sklearn.compose import ColumnTransformer\n",
        "from sklearn.preprocessing import StandardScaler\n",
        "\n",
        "def ensemble_model(X_train, y_train, X_test):\n",
        "\n",
        "    # Define base models\n",
        "    lgbm_model = lgb.LGBMClassifier(objective='binary')  # adjust objective based on task\n",
        "    xgb_model = XGBClassifier()\n",
        "    cat_model = CatBoostClassifier()\n",
        "\n",
        "    # Create KFold for cross-validation\n",
        "    kf = KFold(n_splits=5, shuffle=True, random_state=42)\n",
        "\n",
        "    # Initialize list to store predictions from each model\n",
        "    lgbm_preds = []\n",
        "    xgb_preds = []\n",
        "    cat_preds = []\n",
        "\n",
        "    # Train each model with KFold and store predictions\n",
        "    for train_index, val_index in kf.split(X_train):\n",
        "        X_tr, X_val = X_train.iloc[train_index], X_train.iloc[val_index]\n",
        "        y_tr, y_val = y_train.iloc[train_index], y_train.iloc[val_index]\n",
        "\n",
        "        # Fit and predict for LightGBM\n",
        "        lgbm_model.fit(X_tr, y_tr)\n",
        "        lgbm_preds.append(lgbm_model.predict_proba(X_val)[:, 1])\n",
        "\n",
        "        # Fit and predict for XGBoost\n",
        "        xgb_model.fit(X_tr, y_tr)\n",
        "        xgb_preds.append(xgb_model.predict_proba(X_val)[:, 1])\n",
        "\n",
        "        # Fit and predict for CatBoost\n",
        "        cat_model.fit(X_tr, y_tr)\n",
        "        cat_preds.append(cat_model.predict_proba(X_val)[:, 1])\n",
        "\n",
        "    # Average predictions from each model\n",
        "    final_preds = (np.array(lgbm_preds) + np.array(xgb_preds) + np.array(cat_preds)) / 3\n",
        "\n",
        "    # Predict on test data\n",
        "    lgbm_test_pred = lgbm_model.predict_proba(X_test)[:, 1]\n",
        "    xgb_test_pred = xgb_model.predict_proba(X_test)[:, 1]\n",
        "    cat_test_pred = cat_model.predict_proba(X_test)[:, 1]\n",
        "    ensemble_test_pred = (lgbm_test_pred + xgb_test_pred + cat_test_pred) / 3\n",
        "\n",
        "    return final_preds, ensemble_test_pred"
      ]
    },
    {
      "cell_type": "code",
      "execution_count": null,
      "metadata": {
        "id": "6UywYTIi0Dee",
        "colab": {
          "base_uri": "https://localhost:8080/"
        },
        "outputId": "47b5ff93-d148-4226-ff2a-f914f848ecc1"
      },
      "outputs": [
        {
          "output_type": "execute_result",
          "data": {
            "text/plain": [
              "array([0, 0, 0, ..., 0, 1, 0])"
            ]
          },
          "metadata": {},
          "execution_count": 23
        }
      ],
      "source": [
        "ensemble_pred"
      ]
    },
    {
      "cell_type": "code",
      "execution_count": null,
      "metadata": {
        "id": "1TqcAQAf1WsS"
      },
      "outputs": [],
      "source": [
        "# prompt: create a sample_submission.csv for ensemle_pred predictions with two a columns id and depression.fix an error:---------------------------------------------------------------------------\n",
        "# ValueError                                Traceback (most recent call last)\n",
        "# Cell In[63], line 13\n",
        "#       7 import numpy as np\n",
        "#       9 # Assuming 'ensemble_pred' is your NumPy array of predictions\n",
        "#      10 # and 'test' DataFrame contains the 'id' column\n",
        "#      11\n",
        "#      12 # Create a sample submission DataFrame\n",
        "# ---> 13 submission = pd.DataFrame({'id': test['id'], 'Depression': ensemble_pred})\n",
        "#      15 # Save the DataFrame to a CSV file\n",
        "#      16 submission.to_csv('sample_submission.csv', index=False)\n",
        "# File /opt/conda/lib/python3.10/site-packages/pandas/core/frame.py:778, in DataFrame.__init__(self, data, index, columns, dtype, copy)\n",
        "#     772     mgr = self._init_mgr(\n",
        "#     773         data, axes={\"index\": index, \"columns\": columns}, dtype=dtype, copy=copy\n",
        "#     774     )\n",
        "#     776 elif isinstance(data, dict):\n",
        "#     777\n",
        "\n",
        "import pandas as pd\n",
        "import numpy as np\n",
        "\n",
        "# Assuming 'ensemble_pred' is your NumPy array of predictions\n",
        "# and 'test' DataFrame contains the 'id' column\n",
        "\n",
        "# Create a sample submission DataFrame\n",
        "submission = pd.DataFrame({'id': test['id'], 'Depression': ensemble_pred})\n",
        "\n",
        "# Ensure 'Depression' column is of integer type\n",
        "submission['Depression'] = submission['Depression'].astype(int)\n",
        "\n",
        "# Save the DataFrame to a CSV file\n",
        "submission.to_csv('sample_submission.csv', index=False)"
      ]
    },
    {
      "cell_type": "code",
      "execution_count": null,
      "metadata": {
        "id": "w7KhcXMY0Yuf",
        "colab": {
          "base_uri": "https://localhost:8080/"
        },
        "outputId": "bc1686a8-a977-4232-d356-ed1d5f8782b2"
      },
      "outputs": [
        {
          "output_type": "stream",
          "name": "stdout",
          "text": [
            "Error: 'train_preprocessed.csv' not found. Please ensure the preprocessed training data is saved with this name.\n",
            "[LightGBM] [Warning] Found whitespace in feature_names, replace with underlines\n",
            "[LightGBM] [Info] Number of positive: 20413, number of negative: 92147\n",
            "[LightGBM] [Info] Auto-choosing row-wise multi-threading, the overhead of testing was 0.019248 seconds.\n",
            "You can set `force_row_wise=true` to remove the overhead.\n",
            "And if memory is not enough, you can set `force_col_wise=true`.\n",
            "[LightGBM] [Info] Total Bins 919\n",
            "[LightGBM] [Info] Number of data points in the train set: 112560, number of used features: 19\n",
            "[LightGBM] [Info] [binary:BoostFromScore]: pavg=0.181352 -> initscore=-1.507213\n",
            "[LightGBM] [Info] Start training from score -1.507213\n"
          ]
        },
        {
          "output_type": "stream",
          "name": "stderr",
          "text": [
            "<ipython-input-26-a2f44083c296>:51: FutureWarning: A value is trying to be set on a copy of a DataFrame or Series through chained assignment using an inplace method.\n",
            "The behavior will change in pandas 3.0. This inplace method will never work because the intermediate object on which we are setting values always behaves as a copy.\n",
            "\n",
            "For example, when doing 'df[col].method(value, inplace=True)', try using 'df.method({col: value}, inplace=True)' or df[col] = df[col].method(value) instead, to perform the operation inplace on the original object.\n",
            "\n",
            "\n",
            "  test[col].fillna(test[col].mode()[0], inplace=True)\n",
            "<ipython-input-26-a2f44083c296>:53: FutureWarning: A value is trying to be set on a copy of a DataFrame or Series through chained assignment using an inplace method.\n",
            "The behavior will change in pandas 3.0. This inplace method will never work because the intermediate object on which we are setting values always behaves as a copy.\n",
            "\n",
            "For example, when doing 'df[col].method(value, inplace=True)', try using 'df.method({col: value}, inplace=True)' or df[col] = df[col].method(value) instead, to perform the operation inplace on the original object.\n",
            "\n",
            "\n",
            "  test[col].fillna(test[col].mean(), inplace=True)\n"
          ]
        },
        {
          "output_type": "stream",
          "name": "stdout",
          "text": [
            "Predictions for the first 5 children in the test set:\n",
            "[0 0 0 1 0]\n"
          ]
        }
      ],
      "source": [
        "# prompt: Use the model to get a prediction of a child\n",
        "\n",
        "import pandas as pd\n",
        "import numpy as np\n",
        "from sklearn.model_selection import train_test_split\n",
        "from sklearn.preprocessing import LabelEncoder\n",
        "from sklearn.preprocessing import OrdinalEncoder\n",
        "from lightgbm import LGBMClassifier\n",
        "from xgboost import XGBClassifier\n",
        "from catboost import CatBoostClassifier\n",
        "from sklearn.metrics import accuracy_score, classification_report\n",
        "\n",
        "# Load the preprocessed training data (assuming it's named 'train_preprocessed.csv')\n",
        "try:\n",
        "    train = pd.read_csv('/content/train_preprocessed.csv')\n",
        "except FileNotFoundError:\n",
        "    print(\"Error: 'train_preprocessed.csv' not found. Please ensure the preprocessed training data is saved with this name.\")\n",
        "    exit()\n",
        "\n",
        "# Assuming 'train' is your DataFrame and 'sii' is your target variable\n",
        "X = train.drop('Depression', axis=1)\n",
        "y = train['Depression']\n",
        "\n",
        "# Split the data into training and testing sets\n",
        "X_train, X_test, y_train, y_test = train_test_split(X, y, test_size=0.2, random_state=42)\n",
        "\n",
        "# Initialize models (you might need to adjust hyperparameters)\n",
        "lgbm_model = LGBMClassifier(random_state=42)\n",
        "xgb_model = XGBClassifier(random_state=42)\n",
        "catboost_model = CatBoostClassifier(random_state=42, verbose=0)\n",
        "\n",
        "# Train models\n",
        "lgbm_model.fit(X_train, y_train)\n",
        "xgb_model.fit(X_train, y_train)\n",
        "catboost_model.fit(X_train, y_train)\n",
        "\n",
        "# Load the test data\n",
        "try:\n",
        "    test = pd.read_csv('/content/test (2).csv')\n",
        "except FileNotFoundError:\n",
        "    print(\"Error: 'test (2).csv' not found. Please ensure the test data is in the correct location.\")\n",
        "    exit()\n",
        "\n",
        "# Preprocess the test data (must mirror the preprocessing done for the training data)\n",
        "# ... (your preprocessing code here) ...\n",
        "\n",
        "# Example of simple preprocessing: impute missing values and label encode\n",
        "for col in test.columns:\n",
        "    if test[col].isnull().any():\n",
        "        if test[col].dtype == 'object':\n",
        "            test[col].fillna(test[col].mode()[0], inplace=True)\n",
        "        else:\n",
        "            test[col].fillna(test[col].mean(), inplace=True)\n",
        "\n",
        "object_cols = test.select_dtypes(include='object').columns\n",
        "\n",
        "for col in object_cols:\n",
        "    le = LabelEncoder()\n",
        "    test[col] = le.fit_transform(test[col])\n",
        "\n",
        "\n",
        "# Make predictions on the test set using the ensemble\n",
        "lgbm_pred_test = lgbm_model.predict(test)\n",
        "xgb_pred_test = xgb_model.predict(test)\n",
        "catboost_pred_test = catboost_model.predict(test)\n",
        "\n",
        "# Ensemble predictions (simple averaging)\n",
        "ensemble_pred_test = np.round((lgbm_pred_test + xgb_pred_test + catboost_pred_test) / 3).astype(int)\n",
        "\n",
        "# Print predictions for first few rows (or as needed)\n",
        "print(\"Predictions for the first 5 children in the test set:\")\n",
        "print(ensemble_pred_test[:5])"
      ]
    },
    {
      "cell_type": "markdown",
      "metadata": {
        "id": "4Quq0f8E2CvU"
      },
      "source": [
        "The above code is ensmeble method of LGBM ,XG Boost and Cat Boost to get the efficient accuracy.The accuracy i got is 94%\n"
      ]
    }
  ],
  "metadata": {
    "colab": {
      "provenance": [],
      "authorship_tag": "ABX9TyMfRPHFefjmoy1QkvHB9Reg",
      "include_colab_link": true
    },
    "kernelspec": {
      "display_name": "Python 3",
      "name": "python3"
    },
    "language_info": {
      "name": "python"
    }
  },
  "nbformat": 4,
  "nbformat_minor": 0
}